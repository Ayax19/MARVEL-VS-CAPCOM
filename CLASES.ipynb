{
 "cells": [
  {
   "cell_type": "code",
   "execution_count": 12,
   "metadata": {
    "collapsed": false
   },
   "outputs": [],
   "source": [
    "#Make a class called polygon and two sub classes from polygon called Square and Triangle\n",
    "\n",
    "class Polygon:    \n",
    "    def __init__(self):             \n",
    "        print (\"hola\")            \n",
    "    \n",
    "    def myNameIs(self, name):        \n",
    "        print (name)\n",
    "        \n",
    "class Square(Polygon):    \n",
    "    def __init__(self, lado):        \n",
    "        self.lado=lado    \n",
    "    \n",
    "    def areaCuadrado(self):        \n",
    "        area=self.lado*self.lado        \n",
    "        print (\"EL AREA DEL CUADRADO ES: \", area)\n",
    "            \n",
    "class Triangle(Polygon):    \n",
    "    def __init__(self, altura, base):        \n",
    "        self.altura=altura        \n",
    "        self.base=base\n",
    "        \n",
    "    def areaTriangulo(self):        \n",
    "        area=(self.base*self.altura)/2        \n",
    "        print (\"EL AREA DEL TRIANGULO ES: \", area)"
   ]
  },
  {
   "cell_type": "code",
   "execution_count": 13,
   "metadata": {
    "collapsed": false
   },
   "outputs": [
    {
     "name": "stdout",
     "output_type": "stream",
     "text": [
      "EL AREA DEL CUADRADO ES:  64\n"
     ]
    }
   ],
   "source": [
    "p=Square(8)\n",
    "p.areaCuadrado()"
   ]
  },
  {
   "cell_type": "code",
   "execution_count": 16,
   "metadata": {
    "collapsed": false
   },
   "outputs": [
    {
     "name": "stdout",
     "output_type": "stream",
     "text": [
      "EL AREA DEL TRIANGULO ES:  49.5\n"
     ]
    }
   ],
   "source": [
    "P=Triangle(11,9)\n",
    "P.areaTriangulo()"
   ]
  },
  {
   "cell_type": "code",
   "execution_count": 49,
   "metadata": {
    "collapsed": false
   },
   "outputs": [],
   "source": [
    "# Make a class called BankAccount\n",
    "\n",
    "class BankAccount:\n",
    "    def __init_(self,corriente):\n",
    "        self.corriente=corriente\n",
    "    \n",
    "    def cuentaCorriente(self):\n",
    "        cuenta_bancaria_corriente=self.corriente+\"ANSDNALIBFAL\"\n",
    "        print(\"CUENTA BANCARIA CORRIENTE: \", cuenta_bancaria_corriente)"
   ]
  }
 ],
 "metadata": {
  "kernelspec": {
   "display_name": "Python 3",
   "language": "python",
   "name": "python3"
  },
  "language_info": {
   "codemirror_mode": {
    "name": "ipython",
    "version": 3
   },
   "file_extension": ".py",
   "mimetype": "text/x-python",
   "name": "python",
   "nbconvert_exporter": "python",
   "pygments_lexer": "ipython3",
   "version": "3.6.0"
  }
 },
 "nbformat": 4,
 "nbformat_minor": 2
}
