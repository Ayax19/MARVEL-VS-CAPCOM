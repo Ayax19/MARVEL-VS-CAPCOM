{
 "cells": [
  {
   "cell_type": "code",
   "execution_count": 1,
   "metadata": {
    "collapsed": true
   },
   "outputs": [],
   "source": [
    "class Persona:\n",
    "    'Esta clase abstrae a una persona'\n",
    "    def __init__(self,propietario,comida,perros):\n",
    "        print(\"Construyecndo el objeto...\")\n",
    "        self.comida=comida\n",
    "        self.perros=perros\n",
    "        self.propietario=propietario\n",
    "        \n",
    "    def Comida_para_perro(self):\n",
    "        print(\"Comida que le da a su perro: \"+ str(self.comida))\n",
    "        \n",
    "    def Nombre_de_mis_perros(self):\n",
    "        print(\"Imprimiendo...\")        \n",
    "        for perro in self.perros:            \n",
    "            print(\"El nombre uno de mis perros es: \" + perro.perros) \n",
    "    \n",
    "    def Dueno(self):\n",
    "        print(\"Su dueño es: \"+ self.propietario)"
   ]
  },
  {
   "cell_type": "code",
   "execution_count": 2,
   "metadata": {
    "collapsed": true
   },
   "outputs": [],
   "source": [
    "class Mascota:\n",
    "    'Esta clase abstrae a una mascota'\n",
    "    def __init__(self,perros,pedigree,color,naturaleza,habilidad):\n",
    "        print(\"Construyendo el objeto...\")        \n",
    "        self.perros=perros\n",
    "        self.pedigree=pedigree\n",
    "        self.color=color\n",
    "        self.naturaleza=naturaleza\n",
    "        self.habilidad=habilidad\n",
    "        \n",
    "    def Atributos_del_perro():\n",
    "        print(\"Imprimiendo...\")                   \n",
    "        print(self.perros+self.color)"
   ]
  },
  {
   "cell_type": "code",
   "execution_count": 3,
   "metadata": {
    "collapsed": true
   },
   "outputs": [],
   "source": [
    "class Comida:\n",
    "    'Esta clase abstrae comida de perro'\n",
    "    def __init__(self,comida,forma,sabor,toxico):\n",
    "        print(\"Construyendo el objeto...\")\n",
    "        self.comida=comida\n",
    "        self.forma=forma\n",
    "        self.sabor=sabor\n",
    "        self.toxico=toxico\n",
    "    \n",
    "    def Detalle_de_la_comida():\n",
    "        print(\"Imprimiendo...\")                   \n",
    "        print(self.perros+self.color)"
   ]
  },
  {
   "cell_type": "code",
   "execution_count": 4,
   "metadata": {
    "collapsed": false
   },
   "outputs": [
    {
     "name": "stdout",
     "output_type": "stream",
     "text": [
      "Construyendo el objeto...\n",
      "Construyendo el objeto...\n",
      "Construyendo el objeto...\n",
      "Construyendo el objeto...\n",
      "Construyecndo el objeto...\n"
     ]
    }
   ],
   "source": [
    "c1=Comida(\"Whiscast\",\"Liquida\",\"Misterio\",\"Si\")\n",
    "p1=Mascota(\"Bar\",\"Si\",\"Cafe\",\"Miedosa\",\"Ladrar\")\n",
    "p2=Mascota(\"Bill\",\"Si\",\"Dorado\",\"Brava\",\"Ladrar\")\n",
    "p3=Mascota(\"Penny\",\"No\",\"Azul\",\"Ingenua\",\"Ladrar\")\n",
    "PERRO=Persona(\"Yo\",c1,[p1, p2, p3])"
   ]
  },
  {
   "cell_type": "code",
   "execution_count": 5,
   "metadata": {
    "collapsed": false
   },
   "outputs": [
    {
     "name": "stdout",
     "output_type": "stream",
     "text": [
      "Imprimiendo...\n",
      "El nombre uno de mis perros es: Bar\n",
      "El nombre uno de mis perros es: Bill\n",
      "El nombre uno de mis perros es: Penny\n"
     ]
    }
   ],
   "source": [
    "PERRO.Nombre_de_mis_perros()"
   ]
  },
  {
   "cell_type": "code",
   "execution_count": null,
   "metadata": {
    "collapsed": true
   },
   "outputs": [],
   "source": []
  }
 ],
 "metadata": {
  "kernelspec": {
   "display_name": "Python 3",
   "language": "python",
   "name": "python3"
  },
  "language_info": {
   "codemirror_mode": {
    "name": "ipython",
    "version": 3
   },
   "file_extension": ".py",
   "mimetype": "text/x-python",
   "name": "python",
   "nbconvert_exporter": "python",
   "pygments_lexer": "ipython3",
   "version": "3.6.0"
  }
 },
 "nbformat": 4,
 "nbformat_minor": 2
}
